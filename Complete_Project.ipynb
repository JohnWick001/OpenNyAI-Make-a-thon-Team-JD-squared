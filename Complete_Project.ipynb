{
 "cells": [
  {
   "cell_type": "code",
   "execution_count": 1,
   "id": "05979c42",
   "metadata": {},
   "outputs": [],
   "source": [
    "import pandas as pd\n",
    "import numpy as np\n",
    "import pickle\n",
    "import seaborn as sns\n",
    "import matplotlib.pyplot as plt\n",
    "import PyPDF2\n",
    "import re\n",
    "#for text pre-processing\n",
    "import re, string\n",
    "import nltk\n",
    "from nltk.tokenize import word_tokenize\n",
    "from nltk.corpus import stopwords\n",
    "from nltk.tokenize import word_tokenize\n",
    "from nltk.stem import SnowballStemmer\n",
    "from nltk.corpus import wordnet\n",
    "from nltk.stem import WordNetLemmatizer\n",
    "#BagOfWords\n",
    "from sklearn.feature_extraction.text import TfidfVectorizer\n",
    "from sklearn.feature_extraction.text import TfidfTransformer"
   ]
  },
  {
   "cell_type": "code",
   "execution_count": 2,
   "id": "94f2bfdd",
   "metadata": {},
   "outputs": [],
   "source": [
    "# nltk.download('punkt')\n",
    "# nltk.download('averaged_perceptron_tagger')\n",
    "# nltk.download('wordnet')\n",
    "# nltk.download('stopwords')\n",
    "# nltk.download('omw-1.4')"
   ]
  },
  {
   "cell_type": "code",
   "execution_count": 3,
   "id": "d432edd6",
   "metadata": {},
   "outputs": [],
   "source": [
    "def preprocess(text):\n",
    "    text = text.lower() #lowercase text\n",
    "    text=text.strip()  #get rid of leading/trailing whitespace \n",
    "    text=re.compile('<.*?>').sub('', text) #Remove HTML tags/markups\n",
    "    text = re.compile('[%s]' % re.escape(string.punctuation)).sub(' ', text)  #Replace punctuation with space. Careful since punctuation can sometime be useful\n",
    "    text = re.sub('\\s+', ' ', text)  #Remove extra space and tabs\n",
    "    text = re.sub(r'\\[[0-9]*\\]',' ',text) #[0-9] matches any digit (0 to 10000...)\n",
    "    text=re.sub(r'[^\\w\\s]', '', str(text).lower().strip())\n",
    "    text = re.sub(r'\\d',' ',text) #matches any digit from 0 to 100000..., \\D matches non-digits\n",
    "    text = re.sub(r'\\s+',' ',text) #\\s matches any whitespace, \\s+ matches multiple whitespace, \\S matches non-whitespace \n",
    "    return text\n",
    " \n",
    "\n",
    "def stopword(string):\n",
    "    a= [i for i in string.split() if i not in stopwords.words('english')]\n",
    "    return ' '.join(a)\n",
    "\n",
    "def stemming(string):\n",
    "    a=[snow.stem(i) for i in word_tokenize(string) ]\n",
    "    return \" \".join(a)\n",
    "\n",
    "def get_wordnet_pos(tag):\n",
    "    if tag.startswith('J'):\n",
    "        return wordnet.ADJ\n",
    "    elif tag.startswith('V'):\n",
    "        return wordnet.VERB\n",
    "    elif tag.startswith('N'):\n",
    "        return wordnet.NOUN\n",
    "    elif tag.startswith('R'):\n",
    "        return wordnet.ADV\n",
    "    else:\n",
    "        return wordnet.NOUN\n",
    "\n",
    "\n",
    "def lemmatizer(string):\n",
    "    word_pos_tags = nltk.pos_tag(word_tokenize(string)) # Get position tags\n",
    "    a=[wl.lemmatize(tag[0], get_wordnet_pos(tag[1])) for idx, tag in enumerate(word_pos_tags)] # Map the position tag and lemmatize the word/token\n",
    "    return \" \".join(a)\n",
    "\n",
    "def finalpreprocess(string):\n",
    "    return lemmatizer(stopword(preprocess(string)))\n",
    "\n",
    "def clause_extractor(file):\n",
    "    pdf_reader = PyPDF2.PdfFileReader(file)\n",
    "    pages = pdf_reader.getNumPages()\n",
    "    start_symbol = \"“\"\n",
    "    end_symbol = \".”\"\n",
    "    doc_content= \"\"\n",
    "    \n",
    "    for i in range(pages):\n",
    "        page = pdf_reader.getPage(i)\n",
    "        content = page.extract_text()\n",
    "        footer = content.find(\"Downloaded on\")\n",
    "        doc_content = doc_content + content[:footer]\n",
    "        \n",
    "    clause_start = doc_content.find(start_symbol)\n",
    "    if clause_start != -1:\n",
    "        clause_end = doc_content.find(end_symbol)\n",
    "        clause = doc_content[clause_start:clause_end+2]\n",
    "        print(\"Clause Found\")\n",
    "        return clause\n",
    "\n",
    "def verify_clause(clause):\n",
    "    if \"any dispute\" or \"dispute resolution\" or \"arbitration clause\" in clause:\n",
    "        print(\"Clause Verified\")\n",
    "        return clause\n",
    "    else:\n",
    "        print(\"Verification Failed\")\n",
    "        return None"
   ]
  },
  {
   "cell_type": "code",
   "execution_count": 4,
   "id": "505ca1e8",
   "metadata": {},
   "outputs": [],
   "source": [
    "#Model Loading\n",
    "loaded_model = pickle.load(open(\"LR_model.sav\", 'rb'))\n",
    "\n",
    "#Vector Loading\n",
    "transformer = TfidfTransformer()\n",
    "loaded_vec = TfidfVectorizer(decode_error=\"replace\", vocabulary=pickle.load(open(\"feature.pkl\",\"rb\")))\n",
    "\n",
    "#Initializing\n",
    "snow = SnowballStemmer('english')\n",
    "wl = WordNetLemmatizer()"
   ]
  },
  {
   "cell_type": "code",
   "execution_count": 5,
   "id": "959be29f",
   "metadata": {},
   "outputs": [],
   "source": [
    "#Input the PDF File:\n",
    "file = open(\"S.B. Arbitration Application No. 1 2019.pdf\", 'rb')"
   ]
  },
  {
   "cell_type": "code",
   "execution_count": 6,
   "id": "5400d9ae",
   "metadata": {},
   "outputs": [
    {
     "name": "stdout",
     "output_type": "stream",
     "text": [
      "Clause Found\n"
     ]
    }
   ],
   "source": [
    "#Extracting the Dispute Resolution Clause\n",
    "drclause= clause_extractor(file)"
   ]
  },
  {
   "cell_type": "code",
   "execution_count": 7,
   "id": "4a602b1a",
   "metadata": {},
   "outputs": [
    {
     "name": "stdout",
     "output_type": "stream",
     "text": [
      "Clause Verified\n"
     ]
    }
   ],
   "source": [
    "#Verifying the Dispute Resolution Clause\n",
    "verified_clause = verify_clause(drclause)"
   ]
  },
  {
   "cell_type": "code",
   "execution_count": 8,
   "id": "e4ac78df",
   "metadata": {},
   "outputs": [],
   "source": [
    "preprocess_text= finalpreprocess(verified_clause)\n",
    "preprocess_text=[preprocess_text]"
   ]
  },
  {
   "cell_type": "code",
   "execution_count": 9,
   "id": "075e866b",
   "metadata": {},
   "outputs": [],
   "source": [
    "#Using the vec to transform\n",
    "transformed_input = transformer.fit_transform(loaded_vec.fit_transform(preprocess_text))"
   ]
  },
  {
   "cell_type": "code",
   "execution_count": 10,
   "id": "215cf4c3",
   "metadata": {},
   "outputs": [
    {
     "name": "stdout",
     "output_type": "stream",
     "text": [
      "['Valid']\n"
     ]
    }
   ],
   "source": [
    "y_predict = loaded_model.predict(transformed_input)\n",
    "print(y_predict)"
   ]
  },
  {
   "cell_type": "code",
   "execution_count": null,
   "id": "115ee305",
   "metadata": {},
   "outputs": [],
   "source": []
  },
  {
   "cell_type": "code",
   "execution_count": null,
   "id": "aa50edb9",
   "metadata": {},
   "outputs": [],
   "source": []
  },
  {
   "cell_type": "code",
   "execution_count": null,
   "id": "c22389dd",
   "metadata": {},
   "outputs": [],
   "source": []
  },
  {
   "cell_type": "code",
   "execution_count": null,
   "id": "8e82d722",
   "metadata": {},
   "outputs": [],
   "source": []
  }
 ],
 "metadata": {
  "kernelspec": {
   "display_name": "Python 3 (ipykernel)",
   "language": "python",
   "name": "python3"
  },
  "language_info": {
   "codemirror_mode": {
    "name": "ipython",
    "version": 3
   },
   "file_extension": ".py",
   "mimetype": "text/x-python",
   "name": "python",
   "nbconvert_exporter": "python",
   "pygments_lexer": "ipython3",
   "version": "3.9.12"
  }
 },
 "nbformat": 4,
 "nbformat_minor": 5
}
